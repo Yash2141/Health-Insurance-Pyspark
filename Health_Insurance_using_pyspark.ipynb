{
  "nbformat": 4,
  "nbformat_minor": 0,
  "metadata": {
    "colab": {
      "name": " linear_2.ipynb",
      "provenance": [],
      "collapsed_sections": []
    },
    "kernelspec": {
      "name": "python3",
      "display_name": "Python 3"
    },
    "language_info": {
      "name": "python"
    }
  },
  "cells": [
    {
      "cell_type": "markdown",
      "source": [
        "# Big Data Assignment (LinearRegression)\n",
        "## Topic :- LinearRegression\n",
        "##submitted To:- Bharti Motwani Ma'am\n",
        "##Submitted By:- Yash Rathore(MSc Data Science and Forcasting 2nd semester)"
      ],
      "metadata": {
        "id": "pjhu-2RDIc7k"
      }
    },
    {
      "cell_type": "code",
      "execution_count": 4,
      "metadata": {
        "colab": {
          "base_uri": "https://localhost:8080/"
        },
        "id": "1FLlH4mNeRAb",
        "outputId": "f4394ce6-bdd9-4e4e-bb5e-570507095478"
      },
      "outputs": [
        {
          "output_type": "stream",
          "name": "stdout",
          "text": [
            "Requirement already satisfied: pyspark in /usr/local/lib/python3.7/dist-packages (3.2.1)\n",
            "Requirement already satisfied: py4j==0.10.9.3 in /usr/local/lib/python3.7/dist-packages (from pyspark) (0.10.9.3)\n"
          ]
        }
      ],
      "source": [
        "pip install pyspark\n"
      ]
    },
    {
      "cell_type": "code",
      "source": [
        "from pyspark.sql import SparkSession\n",
        "session=SparkSession.builder.appName(\"/content/Health_insurance.csv\").getOrCreate()"
      ],
      "metadata": {
        "id": "C1bXRyhYelmF"
      },
      "execution_count": 5,
      "outputs": []
    },
    {
      "cell_type": "code",
      "source": [
        "df=session.read.csv(\"Health_insurance.csv\", header=True, inferSchema=True)"
      ],
      "metadata": {
        "id": "yZqbWXkrfFrR"
      },
      "execution_count": 6,
      "outputs": []
    },
    {
      "cell_type": "code",
      "source": [
        "df.count()"
      ],
      "metadata": {
        "colab": {
          "base_uri": "https://localhost:8080/"
        },
        "id": "GQvabpuTmJmP",
        "outputId": "c963d954-3afa-458d-b8fc-1e5640b83455"
      },
      "execution_count": 7,
      "outputs": [
        {
          "output_type": "execute_result",
          "data": {
            "text/plain": [
              "1338"
            ]
          },
          "metadata": {},
          "execution_count": 7
        }
      ]
    },
    {
      "cell_type": "code",
      "source": [
        "len(df.columns)"
      ],
      "metadata": {
        "colab": {
          "base_uri": "https://localhost:8080/"
        },
        "id": "nq0UzQh1mScx",
        "outputId": "781df9ec-007a-4742-b630-8492f7cf4ed9"
      },
      "execution_count": 8,
      "outputs": [
        {
          "output_type": "execute_result",
          "data": {
            "text/plain": [
              "7"
            ]
          },
          "metadata": {},
          "execution_count": 8
        }
      ]
    },
    {
      "cell_type": "code",
      "source": [
        "df.printSchema()"
      ],
      "metadata": {
        "colab": {
          "base_uri": "https://localhost:8080/"
        },
        "id": "65F7f_1bfI3h",
        "outputId": "f649ec19-4c96-43b4-d6e0-e4d514278659"
      },
      "execution_count": 9,
      "outputs": [
        {
          "output_type": "stream",
          "name": "stdout",
          "text": [
            "root\n",
            " |-- age: integer (nullable = true)\n",
            " |-- sex: string (nullable = true)\n",
            " |-- bmi: double (nullable = true)\n",
            " |-- children: integer (nullable = true)\n",
            " |-- smoker: string (nullable = true)\n",
            " |-- region: string (nullable = true)\n",
            " |-- charges: double (nullable = true)\n",
            "\n"
          ]
        }
      ]
    },
    {
      "cell_type": "code",
      "source": [
        "df.describe().show()"
      ],
      "metadata": {
        "colab": {
          "base_uri": "https://localhost:8080/"
        },
        "id": "IS-H5dNUf92Q",
        "outputId": "46f710ab-7e51-44e3-cab7-1ea84a63fb75"
      },
      "execution_count": 10,
      "outputs": [
        {
          "output_type": "stream",
          "name": "stdout",
          "text": [
            "+-------+------------------+------+------------------+-----------------+------+---------+------------------+\n",
            "|summary|               age|   sex|               bmi|         children|smoker|   region|           charges|\n",
            "+-------+------------------+------+------------------+-----------------+------+---------+------------------+\n",
            "|  count|              1338|  1338|              1338|             1338|  1338|     1338|              1338|\n",
            "|   mean| 39.20702541106129|  null|30.663396860986538|  1.0949177877429|  null|     null|13270.422265141257|\n",
            "| stddev|14.049960379216147|  null| 6.098186911679012|1.205492739781914|  null|     null|12110.011236693992|\n",
            "|    min|                18|female|             15.96|                0|    no|northeast|         1121.8739|\n",
            "|    max|                64|  male|             53.13|                5|   yes|southwest|       63770.42801|\n",
            "+-------+------------------+------+------------------+-----------------+------+---------+------------------+\n",
            "\n"
          ]
        }
      ]
    },
    {
      "cell_type": "code",
      "source": [
        "df.head()"
      ],
      "metadata": {
        "colab": {
          "base_uri": "https://localhost:8080/"
        },
        "id": "G7oN1WKTmwy9",
        "outputId": "310184c2-59ed-42fa-cfce-78f829e47d11"
      },
      "execution_count": 11,
      "outputs": [
        {
          "output_type": "execute_result",
          "data": {
            "text/plain": [
              "Row(age=19, sex='female', bmi=27.9, children=0, smoker='yes', region='southwest', charges=16884.924)"
            ]
          },
          "metadata": {},
          "execution_count": 11
        }
      ]
    },
    {
      "cell_type": "code",
      "source": [
        "from pyspark.ml.feature import StringIndexer"
      ],
      "metadata": {
        "id": "oW8V-qYVnBw4"
      },
      "execution_count": 12,
      "outputs": []
    },
    {
      "cell_type": "code",
      "source": [
        "indexer = StringIndexer(inputCol=\"sex\",outputCol=\"sex_cat\")\n",
        "Indexed = indexer.fit(df).transform(df)"
      ],
      "metadata": {
        "id": "lw0Guef0n3UV"
      },
      "execution_count": 13,
      "outputs": []
    },
    {
      "cell_type": "code",
      "source": [
        "indexer = StringIndexer(inputCol=\"smoker\",outputCol=\"smoker_cat\")\n",
        "Indexed = indexer.fit(Indexed).transform(Indexed)"
      ],
      "metadata": {
        "id": "AgBnKqWNotPe"
      },
      "execution_count": 14,
      "outputs": []
    },
    {
      "cell_type": "code",
      "source": [
        "indexer = StringIndexer(inputCol=\"region\",outputCol=\"region_cat\")\n",
        "Indexed = indexer.fit(Indexed).transform(Indexed)"
      ],
      "metadata": {
        "id": "VPebqZjeouy1"
      },
      "execution_count": 15,
      "outputs": []
    },
    {
      "cell_type": "code",
      "source": [
        "Indexed.show()"
      ],
      "metadata": {
        "colab": {
          "base_uri": "https://localhost:8080/"
        },
        "id": "0T6OHRS0po1W",
        "outputId": "b26fe732-3bb4-4157-d655-0288e874df43"
      },
      "execution_count": 16,
      "outputs": [
        {
          "output_type": "stream",
          "name": "stdout",
          "text": [
            "+---+------+------+--------+------+---------+-----------+-------+----------+----------+\n",
            "|age|   sex|   bmi|children|smoker|   region|    charges|sex_cat|smoker_cat|region_cat|\n",
            "+---+------+------+--------+------+---------+-----------+-------+----------+----------+\n",
            "| 19|female|  27.9|       0|   yes|southwest|  16884.924|    1.0|       1.0|       2.0|\n",
            "| 18|  male| 33.77|       1|    no|southeast|  1725.5523|    0.0|       0.0|       0.0|\n",
            "| 28|  male|  33.0|       3|    no|southeast|   4449.462|    0.0|       0.0|       0.0|\n",
            "| 33|  male|22.705|       0|    no|northwest|21984.47061|    0.0|       0.0|       1.0|\n",
            "| 32|  male| 28.88|       0|    no|northwest|  3866.8552|    0.0|       0.0|       1.0|\n",
            "| 31|female| 25.74|       0|    no|southeast|  3756.6216|    1.0|       0.0|       0.0|\n",
            "| 46|female| 33.44|       1|    no|southeast|  8240.5896|    1.0|       0.0|       0.0|\n",
            "| 37|female| 27.74|       3|    no|northwest|  7281.5056|    1.0|       0.0|       1.0|\n",
            "| 37|  male| 29.83|       2|    no|northeast|  6406.4107|    0.0|       0.0|       3.0|\n",
            "| 60|female| 25.84|       0|    no|northwest|28923.13692|    1.0|       0.0|       1.0|\n",
            "| 25|  male| 26.22|       0|    no|northeast|  2721.3208|    0.0|       0.0|       3.0|\n",
            "| 62|female| 26.29|       0|   yes|southeast| 27808.7251|    1.0|       1.0|       0.0|\n",
            "| 23|  male|  34.4|       0|    no|southwest|   1826.843|    0.0|       0.0|       2.0|\n",
            "| 56|female| 39.82|       0|    no|southeast| 11090.7178|    1.0|       0.0|       0.0|\n",
            "| 27|  male| 42.13|       0|   yes|southeast| 39611.7577|    0.0|       1.0|       0.0|\n",
            "| 19|  male|  24.6|       1|    no|southwest|   1837.237|    0.0|       0.0|       2.0|\n",
            "| 52|female| 30.78|       1|    no|northeast| 10797.3362|    1.0|       0.0|       3.0|\n",
            "| 23|  male|23.845|       0|    no|northeast| 2395.17155|    0.0|       0.0|       3.0|\n",
            "| 56|  male|  40.3|       0|    no|southwest|  10602.385|    0.0|       0.0|       2.0|\n",
            "| 30|  male|  35.3|       0|   yes|southwest|  36837.467|    0.0|       1.0|       2.0|\n",
            "+---+------+------+--------+------+---------+-----------+-------+----------+----------+\n",
            "only showing top 20 rows\n",
            "\n"
          ]
        }
      ]
    },
    {
      "cell_type": "code",
      "source": [
        "from pyspark.ml.linalg import Vector\n",
        "from pyspark.ml.feature import VectorAssembler"
      ],
      "metadata": {
        "id": "4TH0xRGqptwo"
      },
      "execution_count": 17,
      "outputs": []
    },
    {
      "cell_type": "code",
      "source": [
        "Indexed.columns"
      ],
      "metadata": {
        "colab": {
          "base_uri": "https://localhost:8080/"
        },
        "id": "ul_klrberU_N",
        "outputId": "856e14af-1680-46e1-85ed-b60c8f7355ba"
      },
      "execution_count": 18,
      "outputs": [
        {
          "output_type": "execute_result",
          "data": {
            "text/plain": [
              "['age',\n",
              " 'sex',\n",
              " 'bmi',\n",
              " 'children',\n",
              " 'smoker',\n",
              " 'region',\n",
              " 'charges',\n",
              " 'sex_cat',\n",
              " 'smoker_cat',\n",
              " 'region_cat']"
            ]
          },
          "metadata": {},
          "execution_count": 18
        }
      ]
    },
    {
      "cell_type": "code",
      "source": [
        "assembler = VectorAssembler(inputCols=[\"age\",\"bmi\",\"children\",\"sex_cat\",\n",
        "                                       \"smoker_cat\",\"region_cat\"],\n",
        "                            outputCol=\"Features\")\n"
      ],
      "metadata": {
        "id": "ktT8nk6Wq8bU"
      },
      "execution_count": 19,
      "outputs": []
    },
    {
      "cell_type": "code",
      "source": [
        "assembler"
      ],
      "metadata": {
        "colab": {
          "base_uri": "https://localhost:8080/"
        },
        "id": "Wbm3r3RCsXqj",
        "outputId": "de9d4562-9311-43d2-a39b-3dfedd072959"
      },
      "execution_count": 20,
      "outputs": [
        {
          "output_type": "execute_result",
          "data": {
            "text/plain": [
              "VectorAssembler_9e68cf9b8160"
            ]
          },
          "metadata": {},
          "execution_count": 20
        }
      ]
    },
    {
      "cell_type": "code",
      "source": [
        "output = assembler.transform(Indexed)"
      ],
      "metadata": {
        "id": "Pldq0lgYsZ-6"
      },
      "execution_count": 21,
      "outputs": []
    },
    {
      "cell_type": "code",
      "source": [
        "output.show()"
      ],
      "metadata": {
        "colab": {
          "base_uri": "https://localhost:8080/"
        },
        "id": "NoeFZ-cDtcKM",
        "outputId": "d81f7ea5-8d19-4bf6-f269-3ceb6a041485"
      },
      "execution_count": 22,
      "outputs": [
        {
          "output_type": "stream",
          "name": "stdout",
          "text": [
            "+---+------+------+--------+------+---------+-----------+-------+----------+----------+--------------------+\n",
            "|age|   sex|   bmi|children|smoker|   region|    charges|sex_cat|smoker_cat|region_cat|            Features|\n",
            "+---+------+------+--------+------+---------+-----------+-------+----------+----------+--------------------+\n",
            "| 19|female|  27.9|       0|   yes|southwest|  16884.924|    1.0|       1.0|       2.0|[19.0,27.9,0.0,1....|\n",
            "| 18|  male| 33.77|       1|    no|southeast|  1725.5523|    0.0|       0.0|       0.0|[18.0,33.77,1.0,0...|\n",
            "| 28|  male|  33.0|       3|    no|southeast|   4449.462|    0.0|       0.0|       0.0|[28.0,33.0,3.0,0....|\n",
            "| 33|  male|22.705|       0|    no|northwest|21984.47061|    0.0|       0.0|       1.0|[33.0,22.705,0.0,...|\n",
            "| 32|  male| 28.88|       0|    no|northwest|  3866.8552|    0.0|       0.0|       1.0|[32.0,28.88,0.0,0...|\n",
            "| 31|female| 25.74|       0|    no|southeast|  3756.6216|    1.0|       0.0|       0.0|[31.0,25.74,0.0,1...|\n",
            "| 46|female| 33.44|       1|    no|southeast|  8240.5896|    1.0|       0.0|       0.0|[46.0,33.44,1.0,1...|\n",
            "| 37|female| 27.74|       3|    no|northwest|  7281.5056|    1.0|       0.0|       1.0|[37.0,27.74,3.0,1...|\n",
            "| 37|  male| 29.83|       2|    no|northeast|  6406.4107|    0.0|       0.0|       3.0|[37.0,29.83,2.0,0...|\n",
            "| 60|female| 25.84|       0|    no|northwest|28923.13692|    1.0|       0.0|       1.0|[60.0,25.84,0.0,1...|\n",
            "| 25|  male| 26.22|       0|    no|northeast|  2721.3208|    0.0|       0.0|       3.0|[25.0,26.22,0.0,0...|\n",
            "| 62|female| 26.29|       0|   yes|southeast| 27808.7251|    1.0|       1.0|       0.0|[62.0,26.29,0.0,1...|\n",
            "| 23|  male|  34.4|       0|    no|southwest|   1826.843|    0.0|       0.0|       2.0|[23.0,34.4,0.0,0....|\n",
            "| 56|female| 39.82|       0|    no|southeast| 11090.7178|    1.0|       0.0|       0.0|[56.0,39.82,0.0,1...|\n",
            "| 27|  male| 42.13|       0|   yes|southeast| 39611.7577|    0.0|       1.0|       0.0|[27.0,42.13,0.0,0...|\n",
            "| 19|  male|  24.6|       1|    no|southwest|   1837.237|    0.0|       0.0|       2.0|[19.0,24.6,1.0,0....|\n",
            "| 52|female| 30.78|       1|    no|northeast| 10797.3362|    1.0|       0.0|       3.0|[52.0,30.78,1.0,1...|\n",
            "| 23|  male|23.845|       0|    no|northeast| 2395.17155|    0.0|       0.0|       3.0|[23.0,23.845,0.0,...|\n",
            "| 56|  male|  40.3|       0|    no|southwest|  10602.385|    0.0|       0.0|       2.0|[56.0,40.3,0.0,0....|\n",
            "| 30|  male|  35.3|       0|   yes|southwest|  36837.467|    0.0|       1.0|       2.0|[30.0,35.3,0.0,0....|\n",
            "+---+------+------+--------+------+---------+-----------+-------+----------+----------+--------------------+\n",
            "only showing top 20 rows\n",
            "\n"
          ]
        }
      ]
    },
    {
      "cell_type": "code",
      "source": [
        "output.select(\"Features\",\"charges\").show(truncate=False)"
      ],
      "metadata": {
        "colab": {
          "base_uri": "https://localhost:8080/"
        },
        "id": "hGs5C48rQNW2",
        "outputId": "b3dede01-6fa8-4491-c550-5ee147ecead7"
      },
      "execution_count": 23,
      "outputs": [
        {
          "output_type": "stream",
          "name": "stdout",
          "text": [
            "+-----------------------------+-----------+\n",
            "|Features                     |charges    |\n",
            "+-----------------------------+-----------+\n",
            "|[19.0,27.9,0.0,1.0,1.0,2.0]  |16884.924  |\n",
            "|[18.0,33.77,1.0,0.0,0.0,0.0] |1725.5523  |\n",
            "|[28.0,33.0,3.0,0.0,0.0,0.0]  |4449.462   |\n",
            "|[33.0,22.705,0.0,0.0,0.0,1.0]|21984.47061|\n",
            "|[32.0,28.88,0.0,0.0,0.0,1.0] |3866.8552  |\n",
            "|[31.0,25.74,0.0,1.0,0.0,0.0] |3756.6216  |\n",
            "|[46.0,33.44,1.0,1.0,0.0,0.0] |8240.5896  |\n",
            "|[37.0,27.74,3.0,1.0,0.0,1.0] |7281.5056  |\n",
            "|[37.0,29.83,2.0,0.0,0.0,3.0] |6406.4107  |\n",
            "|[60.0,25.84,0.0,1.0,0.0,1.0] |28923.13692|\n",
            "|[25.0,26.22,0.0,0.0,0.0,3.0] |2721.3208  |\n",
            "|[62.0,26.29,0.0,1.0,1.0,0.0] |27808.7251 |\n",
            "|[23.0,34.4,0.0,0.0,0.0,2.0]  |1826.843   |\n",
            "|[56.0,39.82,0.0,1.0,0.0,0.0] |11090.7178 |\n",
            "|[27.0,42.13,0.0,0.0,1.0,0.0] |39611.7577 |\n",
            "|[19.0,24.6,1.0,0.0,0.0,2.0]  |1837.237   |\n",
            "|[52.0,30.78,1.0,1.0,0.0,3.0] |10797.3362 |\n",
            "|[23.0,23.845,0.0,0.0,0.0,3.0]|2395.17155 |\n",
            "|[56.0,40.3,0.0,0.0,0.0,2.0]  |10602.385  |\n",
            "|[30.0,35.3,0.0,0.0,1.0,2.0]  |36837.467  |\n",
            "+-----------------------------+-----------+\n",
            "only showing top 20 rows\n",
            "\n"
          ]
        }
      ]
    },
    {
      "cell_type": "code",
      "source": [
        "final_data =output.select(\"Features\",\"charges\")"
      ],
      "metadata": {
        "id": "DVE0snt21Pil"
      },
      "execution_count": 24,
      "outputs": []
    },
    {
      "cell_type": "code",
      "source": [
        "final_data.show()"
      ],
      "metadata": {
        "colab": {
          "base_uri": "https://localhost:8080/"
        },
        "id": "dgE1GbO_SHVu",
        "outputId": "16fb7442-ad83-43e5-d15b-1041c3ba3568"
      },
      "execution_count": 25,
      "outputs": [
        {
          "output_type": "stream",
          "name": "stdout",
          "text": [
            "+--------------------+-----------+\n",
            "|            Features|    charges|\n",
            "+--------------------+-----------+\n",
            "|[19.0,27.9,0.0,1....|  16884.924|\n",
            "|[18.0,33.77,1.0,0...|  1725.5523|\n",
            "|[28.0,33.0,3.0,0....|   4449.462|\n",
            "|[33.0,22.705,0.0,...|21984.47061|\n",
            "|[32.0,28.88,0.0,0...|  3866.8552|\n",
            "|[31.0,25.74,0.0,1...|  3756.6216|\n",
            "|[46.0,33.44,1.0,1...|  8240.5896|\n",
            "|[37.0,27.74,3.0,1...|  7281.5056|\n",
            "|[37.0,29.83,2.0,0...|  6406.4107|\n",
            "|[60.0,25.84,0.0,1...|28923.13692|\n",
            "|[25.0,26.22,0.0,0...|  2721.3208|\n",
            "|[62.0,26.29,0.0,1...| 27808.7251|\n",
            "|[23.0,34.4,0.0,0....|   1826.843|\n",
            "|[56.0,39.82,0.0,1...| 11090.7178|\n",
            "|[27.0,42.13,0.0,0...| 39611.7577|\n",
            "|[19.0,24.6,1.0,0....|   1837.237|\n",
            "|[52.0,30.78,1.0,1...| 10797.3362|\n",
            "|[23.0,23.845,0.0,...| 2395.17155|\n",
            "|[56.0,40.3,0.0,0....|  10602.385|\n",
            "|[30.0,35.3,0.0,0....|  36837.467|\n",
            "+--------------------+-----------+\n",
            "only showing top 20 rows\n",
            "\n"
          ]
        }
      ]
    },
    {
      "cell_type": "code",
      "source": [
        "train_data, test_data = final_data.randomSplit([0.7,0.3])"
      ],
      "metadata": {
        "id": "Is1wOghMSJjm"
      },
      "execution_count": 26,
      "outputs": []
    },
    {
      "cell_type": "code",
      "source": [
        "train_data.show()"
      ],
      "metadata": {
        "colab": {
          "base_uri": "https://localhost:8080/"
        },
        "id": "vylBdGDhSbpk",
        "outputId": "12ca7964-4b1b-4818-e914-0e324d4f6f63"
      },
      "execution_count": 27,
      "outputs": [
        {
          "output_type": "stream",
          "name": "stdout",
          "text": [
            "+--------------------+-----------+\n",
            "|            Features|    charges|\n",
            "+--------------------+-----------+\n",
            "|(6,[0,1],[18.0,30...|  1131.5066|\n",
            "|(6,[0,1],[18.0,33...|  1135.9407|\n",
            "|(6,[0,1],[18.0,33...|  1136.3994|\n",
            "|(6,[0,1],[18.0,37...|  1141.4451|\n",
            "|(6,[0,1],[18.0,41...|  1146.7966|\n",
            "|(6,[0,1],[18.0,43...|  1149.3959|\n",
            "|(6,[0,1],[18.0,53...|  1163.4627|\n",
            "|(6,[0,1],[20.0,33...|  1391.5287|\n",
            "|(6,[0,1],[21.0,23...|  1515.3449|\n",
            "|(6,[0,1],[21.0,31...|16586.49771|\n",
            "|(6,[0,1],[21.0,35...|  1532.4697|\n",
            "|(6,[0,1],[21.0,36...|  1534.3045|\n",
            "|(6,[0,1],[22.0,26...|  1664.9996|\n",
            "|(6,[0,1],[22.0,33...|  1674.6323|\n",
            "|(6,[0,1],[23.0,41...|  1837.2819|\n",
            "|(6,[0,1],[24.0,35...|  1986.9334|\n",
            "|(6,[0,1],[27.0,23...|   2483.736|\n",
            "|(6,[0,1],[27.0,32...|  2497.0383|\n",
            "|(6,[0,1],[27.0,33...|  2498.4144|\n",
            "|(6,[0,1],[28.0,38...|  2689.4954|\n",
            "+--------------------+-----------+\n",
            "only showing top 20 rows\n",
            "\n"
          ]
        }
      ]
    },
    {
      "cell_type": "code",
      "source": [
        "test_data.show()"
      ],
      "metadata": {
        "colab": {
          "base_uri": "https://localhost:8080/"
        },
        "id": "uxE_X0VLSqO8",
        "outputId": "7d242021-ad84-4236-c61f-149400e8a5c5"
      },
      "execution_count": 28,
      "outputs": [
        {
          "output_type": "stream",
          "name": "stdout",
          "text": [
            "+--------------------+-----------+\n",
            "|            Features|    charges|\n",
            "+--------------------+-----------+\n",
            "|(6,[0,1],[18.0,23...|  1121.8739|\n",
            "|(6,[0,1],[18.0,34...|   1137.011|\n",
            "|(6,[0,1],[18.0,34...|  1137.4697|\n",
            "|(6,[0,1],[23.0,26...|  1815.8759|\n",
            "|(6,[0,1],[23.0,32...|  1824.2854|\n",
            "|(6,[0,1],[24.0,32...|  1981.5819|\n",
            "|(6,[0,1],[25.0,25...|  2137.6536|\n",
            "|(6,[0,1],[26.0,35...|  2322.6218|\n",
            "|(6,[0,1],[34.0,34...|  3935.1799|\n",
            "|(6,[0,1],[37.0,36...|19214.70553|\n",
            "|(6,[0,1],[41.0,40...|  5709.1644|\n",
            "|(6,[0,1],[48.0,40...|  7804.1605|\n",
            "|(6,[0,1],[53.0,41...|  9504.3103|\n",
            "|(6,[0,1],[56.0,34...| 10594.2257|\n",
            "|(6,[0,1],[62.0,38...| 12981.3457|\n",
            "|(6,[0,1],[62.0,39...| 12982.8747|\n",
            "|[18.0,21.47,0.0,0...|  1702.4553|\n",
            "|[18.0,21.66,0.0,1...| 14283.4594|\n",
            "|[18.0,22.99,0.0,0...|  1704.5681|\n",
            "|[18.0,23.32,1.0,0...|  1711.0268|\n",
            "+--------------------+-----------+\n",
            "only showing top 20 rows\n",
            "\n"
          ]
        }
      ]
    },
    {
      "cell_type": "code",
      "source": [
        "from pyspark.ml.regression import LinearRegression"
      ],
      "metadata": {
        "id": "MrhCJ-ulStW8"
      },
      "execution_count": 29,
      "outputs": []
    },
    {
      "cell_type": "code",
      "source": [
        "lr = LinearRegression(featuresCol=\"Features\",\n",
        "                      labelCol=\"charges\")"
      ],
      "metadata": {
        "id": "2VHjPkARS3ex"
      },
      "execution_count": 30,
      "outputs": []
    },
    {
      "cell_type": "code",
      "source": [
        "trained_model = lr.fit(train_data)"
      ],
      "metadata": {
        "id": "M027YQcFTI-f"
      },
      "execution_count": 31,
      "outputs": []
    },
    {
      "cell_type": "code",
      "source": [
        "trained_model"
      ],
      "metadata": {
        "colab": {
          "base_uri": "https://localhost:8080/"
        },
        "id": "iik56rWjTOv0",
        "outputId": "77a23412-28e0-44b7-c595-128189c618c8"
      },
      "execution_count": 32,
      "outputs": [
        {
          "output_type": "execute_result",
          "data": {
            "text/plain": [
              "LinearRegressionModel: uid=LinearRegression_6283938a428d, numFeatures=6"
            ]
          },
          "metadata": {},
          "execution_count": 32
        }
      ]
    },
    {
      "cell_type": "code",
      "source": [
        "results = trained_model.evaluate(train_data)"
      ],
      "metadata": {
        "id": "7Oz1b4M_TRp7"
      },
      "execution_count": 33,
      "outputs": []
    },
    {
      "cell_type": "code",
      "source": [
        "print(results.r2)"
      ],
      "metadata": {
        "colab": {
          "base_uri": "https://localhost:8080/"
        },
        "id": "o--Jt5KMTd5E",
        "outputId": "b4153ad8-3b64-4ff2-9b53-69de635520f9"
      },
      "execution_count": 34,
      "outputs": [
        {
          "output_type": "stream",
          "name": "stdout",
          "text": [
            "0.7337589628109955\n"
          ]
        }
      ]
    },
    {
      "cell_type": "code",
      "source": [
        "print(results.meanSquaredError)"
      ],
      "metadata": {
        "colab": {
          "base_uri": "https://localhost:8080/"
        },
        "id": "lZGHAI6YHyod",
        "outputId": "7c8c111b-ac17-455b-f55b-c163f44ec307"
      },
      "execution_count": 36,
      "outputs": [
        {
          "output_type": "stream",
          "name": "stdout",
          "text": [
            "38573552.693008214\n"
          ]
        }
      ]
    },
    {
      "cell_type": "code",
      "source": [
        "print(results.meanAbsoluteError)"
      ],
      "metadata": {
        "colab": {
          "base_uri": "https://localhost:8080/"
        },
        "id": "ugFBTR55IBvD",
        "outputId": "d39e924c-792f-4675-c81a-b691ca102279"
      },
      "execution_count": 37,
      "outputs": [
        {
          "output_type": "stream",
          "name": "stdout",
          "text": [
            "4274.813489231799\n"
          ]
        }
      ]
    },
    {
      "cell_type": "code",
      "source": [
        ""
      ],
      "metadata": {
        "id": "8wRglOczIZMK"
      },
      "execution_count": 37,
      "outputs": []
    },
    {
      "cell_type": "code",
      "source": [
        "unlabeled_data = test_data.select(\"Features\")"
      ],
      "metadata": {
        "id": "J7lN_djKT8e5"
      },
      "execution_count": 38,
      "outputs": []
    },
    {
      "cell_type": "code",
      "source": [
        "unlabeled_data.show()"
      ],
      "metadata": {
        "colab": {
          "base_uri": "https://localhost:8080/"
        },
        "id": "O3PYBUYfUEWH",
        "outputId": "75c67f1d-c292-413f-d6aa-fe76c7dd4898"
      },
      "execution_count": 39,
      "outputs": [
        {
          "output_type": "stream",
          "name": "stdout",
          "text": [
            "+--------------------+\n",
            "|            Features|\n",
            "+--------------------+\n",
            "|(6,[0,1],[18.0,23...|\n",
            "|(6,[0,1],[18.0,34...|\n",
            "|(6,[0,1],[18.0,34...|\n",
            "|(6,[0,1],[23.0,26...|\n",
            "|(6,[0,1],[23.0,32...|\n",
            "|(6,[0,1],[24.0,32...|\n",
            "|(6,[0,1],[25.0,25...|\n",
            "|(6,[0,1],[26.0,35...|\n",
            "|(6,[0,1],[34.0,34...|\n",
            "|(6,[0,1],[37.0,36...|\n",
            "|(6,[0,1],[41.0,40...|\n",
            "|(6,[0,1],[48.0,40...|\n",
            "|(6,[0,1],[53.0,41...|\n",
            "|(6,[0,1],[56.0,34...|\n",
            "|(6,[0,1],[62.0,38...|\n",
            "|(6,[0,1],[62.0,39...|\n",
            "|[18.0,21.47,0.0,0...|\n",
            "|[18.0,21.66,0.0,1...|\n",
            "|[18.0,22.99,0.0,0...|\n",
            "|[18.0,23.32,1.0,0...|\n",
            "+--------------------+\n",
            "only showing top 20 rows\n",
            "\n"
          ]
        }
      ]
    },
    {
      "cell_type": "code",
      "source": [
        "predictions = trained_model.transform(unlabeled_data)"
      ],
      "metadata": {
        "id": "Nhgj2rQnVVbG"
      },
      "execution_count": 40,
      "outputs": []
    },
    {
      "cell_type": "code",
      "source": [
        "predictions.show()"
      ],
      "metadata": {
        "colab": {
          "base_uri": "https://localhost:8080/"
        },
        "id": "lIXOjwF1ViLd",
        "outputId": "faa77cec-2af0-4c88-97f0-802970a65282"
      },
      "execution_count": 41,
      "outputs": [
        {
          "output_type": "stream",
          "name": "stdout",
          "text": [
            "+--------------------+-------------------+\n",
            "|            Features|         prediction|\n",
            "+--------------------+-------------------+\n",
            "|(6,[0,1],[18.0,23...|-338.72404738003934|\n",
            "|(6,[0,1],[18.0,34...| 3073.9339084803014|\n",
            "|(6,[0,1],[18.0,34...|  3177.347785930613|\n",
            "|(6,[0,1],[23.0,26...| 2000.2606504236046|\n",
            "|(6,[0,1],[23.0,32...|  3896.181737012683|\n",
            "|(6,[0,1],[24.0,32...| 3984.7944592555923|\n",
            "|(6,[0,1],[25.0,25...|  2280.899972359739|\n",
            "|(6,[0,1],[26.0,35...|  5575.342895562369|\n",
            "|(6,[0,1],[34.0,34...|  7283.912155525368|\n",
            "|(6,[0,1],[37.0,36...|   8687.30297420755|\n",
            "|(6,[0,1],[41.0,40...| 11006.617534735155|\n",
            "|(6,[0,1],[48.0,40...| 12798.930534872428|\n",
            "|(6,[0,1],[53.0,41...| 14517.431967974191|\n",
            "|(6,[0,1],[56.0,34...| 13094.176803014476|\n",
            "|(6,[0,1],[62.0,38...| 16038.843610312602|\n",
            "|(6,[0,1],[62.0,39...|  16383.55653514698|\n",
            "|[18.0,21.47,0.0,0...|  -561.414114539466|\n",
            "|[18.0,21.66,0.0,1...|  23662.85935808099|\n",
            "|[18.0,22.99,0.0,0...|  -85.0835274955989|\n",
            "|[18.0,23.32,1.0,0...| 302.56733335104036|\n",
            "+--------------------+-------------------+\n",
            "only showing top 20 rows\n",
            "\n"
          ]
        }
      ]
    },
    {
      "cell_type": "code",
      "source": [
        ""
      ],
      "metadata": {
        "id": "Wz99j6VVVmwp"
      },
      "execution_count": 41,
      "outputs": []
    }
  ]
}